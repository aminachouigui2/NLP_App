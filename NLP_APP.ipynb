{
 "cells": [
  {
   "cell_type": "markdown",
   "id": "198de2f6",
   "metadata": {},
   "source": [
    "### Needed Libraries"
   ]
  },
  {
   "cell_type": "code",
   "execution_count": 1,
   "id": "5719e064",
   "metadata": {},
   "outputs": [],
   "source": [
    "#for data visualization\n",
    "import pandas as pd\n",
    "import matplotlib.pyplot as plt\n",
    "import pickle\n",
    "import seaborn as sns\n",
    "sns.set_style(\"whitegrid\")\n",
    "import warnings\n",
    "warnings.filterwarnings(\"ignore\")\n",
    "\n",
    "#for text pre-processing\n",
    "import re, string\n",
    "import nltk\n",
    "from nltk.tokenize import word_tokenize\n",
    "from nltk.corpus import stopwords\n",
    "from nltk.tokenize import word_tokenize\n",
    "from nltk.stem import SnowballStemmer\n",
    "from nltk.corpus import wordnet\n",
    "from nltk.stem import WordNetLemmatizer\n",
    "#stop_words = set(stopwords.words(\"german\"))\n",
    "#nltk.download('averaged_perceptron_tagger')\n",
    "#nltk.download('wordnet')\n",
    "\n",
    "# Bag of words\n",
    "from sklearn.feature_extraction.text import TfidfVectorizer\n",
    "from sklearn.feature_extraction.text import CountVectorizer\n",
    "#for word embedding\n",
    "import gensim\n",
    "from gensim.models import Word2Vec\n",
    "\n",
    "#for model-building\n",
    "from sklearn.model_selection import train_test_split\n",
    "\n",
    "#to save the model\n",
    "import joblib\n",
    "import pickle\n",
    "\n",
    "#CrossValidation\n",
    "from sklearn.model_selection import StratifiedKFold\n",
    "\n",
    "#Classifiers\n",
    "from sklearn.svm import SVC\n",
    "from sklearn.naive_bayes import MultinomialNB\n",
    "\n",
    "#for Metrics\n",
    "from sklearn.metrics import classification_report, f1_score, accuracy_score, confusion_matrix\n",
    "from sklearn.metrics import roc_curve, auc, roc_auc_score\n",
    "\n",
    "#for Arrays\n",
    "import numpy as np\n",
    "\n",
    "#for REST API\n",
    "from flask import Flask\n",
    "import flask.scaffold\n",
    "flask.helpers._endpoint_from_view_func = flask.scaffold._endpoint_from_view_func\n",
    "from flask_restful import Resource, Api, reqparse"
   ]
  },
  {
   "cell_type": "markdown",
   "id": "6ea40a2c",
   "metadata": {},
   "source": [
    "### Read and visualize the dataset"
   ]
  },
  {
   "cell_type": "code",
   "execution_count": 2,
   "id": "dab1f014",
   "metadata": {},
   "outputs": [
    {
     "data": {
      "text/plain": [
       "(array([0, 1, 2, 3, 4, 5, 6, 7, 8]),\n",
       " [Text(0, 0, 'Panorama'),\n",
       "  Text(1, 0, 'Web'),\n",
       "  Text(2, 0, 'International'),\n",
       "  Text(3, 0, 'Wirtschaft'),\n",
       "  Text(4, 0, 'Sport'),\n",
       "  Text(5, 0, 'Inland'),\n",
       "  Text(6, 0, 'Etat'),\n",
       "  Text(7, 0, 'Wissenschaft'),\n",
       "  Text(8, 0, 'Kultur')])"
      ]
     },
     "execution_count": 2,
     "metadata": {},
     "output_type": "execute_result"
    },
    {
     "data": {
      "image/png": "[encoded data removed]",
      "text/plain": [
       "<Figure size 432x288 with 1 Axes>"
      ]
     },
     "metadata": {},
     "output_type": "display_data"
    }
   ],
   "source": [
    "dataset='10kGNAD.csv'\n",
    "df = pd.read_csv(dataset, sep=';', header=None, usecols=[0,1], names=['category', 'text'])\n",
    "x=df['category'].value_counts()\n",
    "sns.barplot(x.index,x).set(title='Dataset visualization', xlabel='Categories', ylabel='Number of articles')\n",
    "plt.xticks(rotation=40)"
   ]
  },
  {
   "cell_type": "markdown",
   "id": "b69a6301",
   "metadata": {},
   "source": [
    "### Text Classification"
   ]
  },
  {
   "cell_type": "code",
   "execution_count": 3,
   "id": "62e127c6",
   "metadata": {},
   "outputs": [],
   "source": [
    "def classification(vect, cl):\n",
    "    #feature extraction\n",
    "    X_train_dtm = vect.fit_transform(X_train)\n",
    "    X_test_dtm = vect.transform(X_test)\n",
    "    #evaluating the classifier results\n",
    "    cl.fit(X_train_dtm, Y_train)\n",
    "    Y_pred_class = cl.predict(X_test_dtm)\n",
    "    #y_prob = cl.predict_proba(X_test_dtm)[:,1]\n",
    "    print(classification_report(Y_test,Y_pred_class))\n",
    "    print('Confusion Matrix:',confusion_matrix(Y_test, Y_pred_class))"
   ]
  },
  {
   "cell_type": "code",
   "execution_count": 4,
   "id": "cf3ad3a8",
   "metadata": {},
   "outputs": [],
   "source": [
    "#for lemmatization\n",
    "class LemmaTokenizer(object):\n",
    "    def __init__(self):\n",
    "        self.wnl = WordNetLemmatizer()\n",
    "    def __call__(self, articles):\n",
    "        return [self.wnl.lemmatize(t) for t in word_tokenize(articles)]"
   ]
  },
  {
   "cell_type": "code",
   "execution_count": null,
   "id": "e1974315",
   "metadata": {},
   "outputs": [],
   "source": [
    "#define variables\n",
    "optionL='german'\n",
    "metrics = []\n",
    "vectorizer='TF-IDF'\n",
    "classifier='SVM'\n",
    "validation='20Test'\n",
    "X, Y = df['text'], df['category']\n",
    "\n",
    "#the list of stop_words for the corresponding language\n",
    "stop_words = stopwords.words(optionL.lower())\n",
    "\n",
    "#pre-processing (remove punctuations, lower(), stop_words removal, lemmatization, bag of words)\n",
    "if vectorizer=='TF-IDF':\n",
    "    vect = TfidfVectorizer(use_idf=True, tokenizer=LemmaTokenizer(), strip_accents = 'unicode', ngram_range=(1,2), stop_words=stop_words)\n",
    "else:\n",
    "    vect = CountVectorizer(use_idf=True, tokenizer=LemmaTokenizer(), strip_accents = 'unicode', ngram_range=(1,2) , stop_words=stop_words)\n",
    "\n",
    "#Choose a classifier\n",
    "if classifier=='SVM':\n",
    "    cl = SVC() \n",
    "else:\n",
    "    cl = MultinomialNB()\n",
    "\n",
    "#choose a method for the training/test\n",
    "if validation=='Cross-Validation':\n",
    "    #20-fold cross_validation\n",
    "    skf = StratifiedKFold(n_splits=5)\n",
    "    for train_index, test_index in skf.split(X, y):\n",
    "        X_train, X_test = X[train_index], X[test_index]\n",
    "        Y_train, Y_test = Y[train_index], Y[test_index]\n",
    "        \n",
    "        classification(vect, cl)\n",
    "else:\n",
    "    #Split the dataset: train & test\n",
    "    X_train, X_test, Y_train, Y_test = train_test_split(X,Y,test_size=0.2,shuffle=True)\n",
    "    #classification and evaluation\n",
    "    classification(vect, cl)"
   ]
  },
  {
   "cell_type": "markdown",
   "id": "b1cef598",
   "metadata": {},
   "source": [
    "### Save the model"
   ]
  },
  {
   "cell_type": "code",
   "execution_count": 11,
   "id": "c45dfb59",
   "metadata": {},
   "outputs": [],
   "source": [
    "clModel = open(\"clModel.pkl\",\"wb\")\n",
    "joblib.dump(cl,clModel)\n",
    "clModel.close()"
   ]
  },
  {
   "cell_type": "markdown",
   "id": "f5562be0",
   "metadata": {},
   "source": [
    "### Save the vectorizer"
   ]
  },
  {
   "cell_type": "code",
   "execution_count": 12,
   "id": "9ee5f2e1",
   "metadata": {},
   "outputs": [],
   "source": [
    "tfidfVec = open(\"tfidfVec.pkl\",\"wb\")\n",
    "joblib.dump(vect,tfidfVec)\n",
    "tfidfVec.close()"
   ]
  },
  {
   "cell_type": "markdown",
   "id": "78b5cf54",
   "metadata": {},
   "source": [
    "### Load the saved model and vectorizer to classify new texts"
   ]
  },
  {
   "cell_type": "code",
   "execution_count": 3,
   "id": "8cb7fb82",
   "metadata": {
    "scrolled": true
   },
   "outputs": [
    {
     "name": "stdout",
     "output_type": "stream",
     "text": [
      "the predicted class is: Etat\n"
     ]
    }
   ],
   "source": [
    "text=\"Die ARD-Tochter Degeto hat sich verpflichtet, ab August einer Quotenregelung zu folgen, die für die Gleichstellung von Regisseurinnen sorgen soll. In mindestens 20 Prozent der Filme, die die ARD-Tochter Degeto produziert oder mitfinanziert, sollen ab Mitte August Frauen Regie führen. Degeto-Chefin Christine Strobl folgt mit dieser Selbstverpflichtung der Forderung von Pro Quote Regie. Die Vereinigung von Regisseurinnen hatte im vergangenen Jahr eine Quotenregelung gefordert, um den weiblichen Filmschaffenden mehr Gehör und ökonomische Gleichstellung zu verschaffen. Pro Quote Regie kritisiert, dass, während rund 50 Prozent der Regie-Studierenden weiblich seien, der Anteil der Regisseurinnen bei Fernsehfilmen nur bei 13 bis 15 Prozent liege. In Österreich sieht die Situation ähnlich aus, auch hier wird von unterschiedlichen Seiten Handlungsbedarf angemahnt. Aber wie soll dieser aussehen? Ist die Einführung der Quotenregelung auch für die österreichische Film- und Fernsehlandschaft sinnvoll? Diskutieren Sie im Forum.\"\n",
    "#load the model from disk\n",
    "model = open(\"model/clModel.pkl\",\"rb\")\n",
    "loaded_model = joblib.load(model)\n",
    "#load the vectorizer from disk\n",
    "vec = open(\"model/tfidfVec.pkl\",\"rb\")\n",
    "loaded_vec = joblib.load(vec)\n",
    "#predict the class for the given text\n",
    "y_pred_class = loaded_model.predict(loaded_vec.transform([text]))\n",
    "print(\"the predicted class is:\", y_pred_class[0])"
   ]
  },
  {
   "cell_type": "markdown",
   "id": "e416c279",
   "metadata": {},
   "source": [
    "### Deploy the model as a REST API"
   ]
  },
  {
   "cell_type": "code",
   "execution_count": 4,
   "id": "a085a51b",
   "metadata": {},
   "outputs": [
    {
     "name": "stderr",
     "output_type": "stream",
     "text": [
      "::ffff:127.0.0.1 - - [2021-11-17 00:19:35] \"GET /predictClass?query=Die%20ARD-Tochter%20Degeto%20hat%20sich%20verpflichtet,%20ab%20August%20einer%20Quotenregelung%20zu%20folgen,%20die%20f%C3%BCr%20die%20Gleichstellung%20von%20Regisseurinnen%20sorgen%20soll.%20In%20mindestens%2020%20Prozent%20der%20Filme,%20die%20die%20ARD-Tochter%20Degeto%20produziert%20oder%20mitfinanziert,%20sollen%20ab%20Mitte%20August%20Frauen%20Regie%20f%C3%BChren.%20Degeto-Chefin%20Christine%20Strobl%20folgt%20mit%20dieser%20Selbstverpflichtung%20der%20Forderung%20von%20Pro%20Quote%20Regie.%20Die%20Vereinigung%20von%20Regisseurinnen%20hatte%20im%20vergangenen%20Jahr%20eine%20Quotenregelung%20gefordert,%20um%20den%20weiblichen%20Filmschaffenden%20mehr%20Geh%C3%B6r%20und%20%C3%B6konomische%20Gleichstellung%20zu%20verschaffen.%20Pro%20Quote%20Regie%20kritisiert,%20dass,%20w%C3%A4hrend%20rund%2050%20Prozent%20der%20Regie-Studierenden%20weiblich%20seien,%20der%20Anteil%20der%20Regisseurinnen%20bei%20Fernsehfilmen%20nur%20bei%2013%20bis%2015%20Prozent%20liege.%20In%20%C3%96sterreich%20sieht%20die%20Situation%20%C3%A4hnlich%20aus,%20auch%20hier%20wird%20von%20unterschiedlichen%20Seiten%20Handlungsbedarf%20angemahnt.%20Aber%20wie%20soll%20dieser%20aussehen?%20Ist%20die%20Einf%C3%BChrung%20der%20Quotenregelung%20auch%20f%C3%BCr%20die%20%C3%B6sterreichische%20Film-%20und%20Fernsehlandschaft%20sinnvoll?%20Diskutieren%20Sie%20im%20Forum. HTTP/1.1\" 200 159 0.063236\n",
      "::ffff:127.0.0.1 - - [2021-11-17 00:20:33] \"GET /predictClass?query=Zum%20Welttag%20der%20Suizidpr%C3%A4vention%20ist%20es%20Zeit,%20das%20alte%20Dogma%20%22%C3%9Cber%20Suizide%20schreibt%20man%20nicht%22%20zu%20verwerfen.%20Denn%20erst%20Ausnahmen%20von%20dieser%20Regel%20f%C3%BChren%20zu%20Nachahmungen%20%E2%80%93%20und%20wer%20%C3%BCber%20Suizidalit%C3%A4t%20dann%20schweigt,%20wenn%20sie%20nicht%20sensationell%20ist,%20stigmatisiert%20die%20Betroffenen%20weiter.%20Halbwissen%20ist%20oft%20gef%C3%A4hrlicher%20als%20Nichtwissen.%20Werther-Effekt?%20Ja%20ja,%20schon%20mal%20geh%C3%B6rt:%20Wird%20%C3%BCber%20einen%20Suizid%20berichtet,%20t%C3%B6ten%20sich%20in%20der%20Folge%20mehr%20Menschen%20selbst.%20So%20wie%20damals,%20als%20Goethes%20Briefroman%20Die%20Leiden%20des%20jungen%20Werthers%20erschien.%20Also:%20%C3%9Cber%20Suizide%20wird%20nicht%20berichtet.%20Stimmt.%20Fast.%20Der%2010.%20September%20ist%20Welttag%20der%20Suizidpr%C3%A4vention.%20Wenn%20es%20darum%20geht,%20Suizide%20zu%20verhinden,%20m%C3%BCssen%20auch%20wir%20Journalisten%20unsere%20Verantwortung%20wahrnehmen%20%E2%80%93%20das%20bedeutet%20in%20diesem%20Fall,%20sich%20vom%20alten%20Stehsatz%20%C3%9Cber%20Suizide%20schreibt%20man%20nicht%20zu%20verabschieden.%20Das%20Dogma%20des%20Schreibverbots%20h%C3%A4lt%20sich%20unter%20Journalisten.%20Dabei%20gibt%20es%20drei%20gute%20Gr%C3%BCnde%20daf%C3%BCr,%20es%20aus%20den%20Redaktionen%20zu%20verbannen.%20Eines%20nach%20dem%20anderen.%20Tats%C3%A4chlich%20f%C3%BChren%20bestimmte%20Medienberichte%20%C3%BCber%20Suizide%20zu%20Nachahmungen.%20Menschen%20in%20Krisen%20befinden%20sich%20oft%20in%20einer%20Phase%20qu%C3%A4lender%20Orientierungslosigkeit,%20wie%20es%20im%20Leitfaden%20zur%20Berichterstattung%20%C3%BCber%20Suizid%20des%20Wiener%20Kriseninterventionszentrums%20hei%C3%9Ft.%20Wenn%20man%20%C3%BCber%20Suizid%20schreibt,%20ist%20allerdings%20das%20Wie%20von%20weitaus%20gr%C3%B6%C3%9Ferer%20Bedeutung%20als%20das%20Ob.%20Viele%20Medienberichte%20%C3%BCber%20Suizide%20haben%20keinerlei%20messbare%20Auswirkung%20auf%20die%20Suizidstatistik.%20Manche%20Berichte%20treiben%20die%20Zahl%20der%20Suizide%20in%20die%20H%C3%B6he%20%E2%80%93%20und%20viele%20k%C3%B6nnen%20Suizide%20verhindern.%20Vor%20allem%20in%20Wien%20wird%20zu%20diesem%20Thema%20seit%20Jahrzehnten%20intensiv%20geforscht.%20Gut%20bekannt%20ist%20die%20Studie%20zu%20den%20Wiener%20U-Bahn-Suiziden:%20Als%20sich%20Anfang%20der%201980er%20immer%20mehr%20Personen%20in%20U-Bahn-Stationen%20selbst%20t%C3%B6teten,%20%C3%BCberzeugten%20Wiener%20Wissenschafter%20die%20gro%C3%9Fen%20Tageszeitungen%20davon,%20die%20Berichterstattung%20massiv%20zur%C3%BCckzufahren.%20Die%20Folge%20war%20ein%20deutlicher%20R%C3%BCckgang%20der%20U-Bahn-Suizide.%20Seitdem%20hat%20sich%20in%20der%20Forschung%20einiges%20getan:%20Wiener%20Wissenschafter%20(einige%20davon%20haben%20schon%20in%20den%2080ern%20an%20der%20erw%C3%A4hnten%20Studie%20mitgearbeitet)%20haben%202010%20im%20British%20Journal%20of%20Psychiatry%20einen%20Artikel%20ver%C3%B6ffentlicht,%20in%20dem%20sie%20Medienberichte%20analysierten%20und%20mit%20der%20amtlichen%20Sterbestatistik%20in%20Zusammenhang%20setzten.%20Das%20Ergebnis%20dieser%20und%20vieler%20anderer%20Studien%20krempelt%20das%20Dogma%20%C3%9Cber%20Suizide%20schreibt%20man%20nicht%20gewaltig%20um.%20Die%20Forscher%20haben%20den%20untersuchten%20Artikeln%20Eigenschaften%20zugewiesen:%20Wurde%20die%20Suizidmethode%20erw%C3%A4hnt?%20War%20der%20Text%20mit%20einem%20Foto%20illustriert?%20Wurde%20der%20Suizid%20vereinfacht%20begr%C3%BCndet%20(zum%20Beispiel:%20Selbstmord%20wegen%20Liebeskummer)?%20Diese%20Eigenschaften%20wurden%20als%20harmful,%20sch%C3%A4dlich,%20eingeordnet.%20Umgekehrt%20codierten%20die%20Autoren%20auch%20protective%20items:%20Wurde%20eine%20Expertin%20oder%20ein%20Experte%20zitiert?%20Wurden%20Hilfsangebote%20f%C3%BCr%20Menschen%20in%20Krisen%20angef%C3%BChrt?%20Die%20Rolle%20der%20Journalisten%20pr%C3%A4sentiert%20sich%20im%20Licht%20aktueller%20Studien%20weitaus%20vielschichtiger,%20als%20es%20der%20viel%20zu%20einfache%20Stehsatz%20des%20Berichtsverbots%20vermuten%20lie%C3%9Fe:%20Je%20nachdem,%20wie%20%C3%BCber%20einen%20Suizid%20berichtet%20wird,%20k%C3%B6nnen%20Medien%20die%20Zahl%20der%20Nachahmungssuizide%20steigern%20%E2%80%93%20oder%20senken.%20Jetzt%20k%C3%B6nnte%20man%20sagen:%20Berichten%20wir%20am%20besten%20gar%20nicht,%20dann%20k%C3%B6nnen%20wir%20nichts%20falsch%20machen.%20Dieser%20Zugang%20hat%20nur%20einen%20gro%C3%9Fen%20Haken.%20Denn%20der%20Stehsatz%20%C3%9Cber%20Suizid%20berichten%20wir%20nicht%20funktioniert%20nicht%20l%C3%BCckenlos.%20Und%20er%20filtert%20genau%20die%20falschen%20Berichte%20heraus.%20Etwa%20drei%20Personen%20t%C3%B6ten%20sich%20jeden%20Tag%20in%20%C3%96sterreich%20selbst,%20%C3%BCber%20die%20allerwenigsten%20liest%20man%20in%20der%20Zeitung.%20Zu%20Recht,%20im%20Sinne%20der%20Zur%C3%BCckhaltung,%20allerdings%20meistens%20nicht%20aus%20Verantwortungsbewusstsein,%20sondern%20weil%20ein%20so%20allt%C3%A4glicher%20Tod%20eben%20keine%20Geschichte%20ist.%20Aber%20ein%20Prominenter?%20Na%20ja,%20das%20k%C3%B6nnen%20wir%20doch%20nicht%20verschweigen!%20Und%20weil%20wir%20ja%20normalerweise%20nicht%20%C3%BCber%20Suizide%20berichten,%20wissen%20wir%20jetzt%20nicht,%20wie%20wirs%20richtig%20machen.%20Dann%20wird%20im%20Boulevard%20%C3%BCber%20mehrere%20Tage%20im%20Detail%20ausgeschlachtet,%20wie%20Robin%20Williams%20gestorben%20ist.%20Oder%20wie%20genau%20Ludwig%20Hirsch%20starb,%20nacherz%C3%A4hlt%20aus%20seiner%20Perspektive.%20Das%20Bitter-Ironische:%20In%20der%20Statistik%20messbare%20Nachahmungen%20sind%20haupts%C3%A4chlich%20bei%20Prominenten%20feststellbar%20%E2%80%93%20wohl,%20weil%20sich%20die%20Menschen%20gerne%20mit%20ihnen%20identifizieren.%20Wird%20der%20Suizid%20einer%20unbekannten%20Person%20nicht%20gerade%20pathetisch%20und%20detailreich%20nacherz%C3%A4hlt,%20ist%20die%20Identifikationsgefahr%20gering.%20Wir%20m%C3%BCssen%20%E2%80%93%20als%20Gesellschaft%20%E2%80%93%20%C3%BCber%20Suizid%20sprechen.%20Jedes%20Jahr%20t%C3%B6ten%20sich%20in%20%C3%96sterreich%201.200%20bis%201.300%20Menschen%20selbst.%20Suizid%20ist%20kein%20Thema,%20%C3%BCber%20das%20man%20schweigen%20kann.%20Jeder%20dieser%20Menschen%20hatte%20Freunde,%20Familie,%20Kollegen.%20Das%20sind%20viele%20tausend%20neue%20Betroffene,%20jedes%20Jahr.%20Weil%20die%20Selbstt%C3%B6tung%20ein%20Tabu%20ist,%20leiden%20sie%20noch%20st%C3%A4rker.%20Und%20wer%20an%20Suizid%20denkt,%20ist%20umso%20gehemmter,%20dar%C3%BCber%20zu%20sprechen.%20Dabei%20w%C3%A4re%20genau%20das%20ein%20so%20wichtiger%20erster%20Schritt%20in%20der%20Pr%C3%A4vention.%20Wie%20also%20berichten?%20Detaillierte%20Empfehlungen%20finden%20sich%20im%20erw%C3%A4hnten%20Leitfaden.%20Kernpunkt%20bleibt:%20Zur%C3%BCckhaltung.%20Richtige%20Suizidberichterstattung%20ist%20nicht%20einfach:%20Einerseits%20soll%20der%20Tod%20nicht%20vereinfacht%20erkl%C3%A4rt%20werden%20%E2%80%93%20ein%20Suizid%20ist%20immer%20die%20Folge%20einer%20Vielzahl%20komplex%20zusammenspielender%20Probleme%20%E2%80%93,%20andererseits%20soll%20die%20individuelle%20Situation%20nachvollziehbar%20sein.%20Schnellsch%C3%BCsse%20wie%20Selbstmord%20wegen%20Geldnot!%20fallen%20also%20durch.%20Genauso%20soll%20der%20Suizid%20nicht%20moralisch%20verurteilt%20werden.%20Das%20passiert%20in%20vielen%20F%C3%A4llen%20ganz%20unbewusst.%20Dauernd%20Suizid%20zu%20schreiben%20ist%20kein%20sch%C3%B6ner%20Stil%20und%20widerspricht%20der%20reinen%20Schule%20gegen%20die%20Wortwiederholung.%20Der%20Begriff%20Selbstmord%20aber%20macht%20Betroffene%20zu%20T%C3%A4tern%20und%20verst%C3%A4rkt%20das%20Stigma,%20unter%20dem%20auch%20die%20Angeh%C3%B6rigen%20von%20Verstorbenen%20leiden.%20Umgekehrt%20suggeriert%20das%20Wort%20Freitod%20eine%20Freiheit,%20die%20in%20den%20allermeisten%20F%C3%A4llen%20nicht%20vorherrscht:%20Suizidale%20Menschen%20sind%20alles%20andere%20als%20frei%20sie%20sind%20gefangen%20in%20einer%20Abw%C3%A4rtsspirale,%20aus%20der%20sie%20meist%20nur%20mit%20fremder%20Hilfe%20ausbrechen%20k%C3%B6nnen.%20Wie%20oben%20erw%C3%A4hnt%20k%C3%B6nnen%20Medien%20Nachahmungssuizide%20auch%20verhindern.%20Etwa%20indem%20auf%20Kontaktstellen%20f%C3%BCr%20Hilfesuchende%20aufmerksam%20gemacht%2\" 200 - 57.965044\n"
     ]
    },
    {
     "name": "stderr",
     "output_type": "stream",
     "text": [
      "::ffff:127.0.0.1 - - [2021-11-17 00:23:54] \"GET /predictClass?query=Youtuber%20The%20iBookGuy%20erkl%C3%A4rt,%20wie%20farbenfrohe%20Games%20mit%20nur%2016k%20Speicher%20m%C3%B6glich%20waren.%20Moderne%20Videospiele%20sind%20wahnsinnig%20Hardware-hungrig.%20Hochaufl%C3%B6sende%20Grafiken%20ben%C3%B6tigen%20in%20einigen%20F%C3%A4llen%20bereits%20Gigabyte%20an%20dediziertem%20Videospeicher.%20Nach%20heutigen%20Ma%C3%9Fst%C3%A4ben%20ist%20es%20fast%20unvorstellbar,%20dass%20Computer%20und%20Spielkonsolen%20in%20den%20fr%C3%BChen%201980er-Jahren%20in%20der%20Regel%20lediglich%20%C3%BCber%20Arbeitsspeicher%20mit%2016%20Kilobyte,%2032k%20oder%20maximal%2064k%20verf%C3%BCgten.%20Und%20dennoch%20galt%20die%20Zeit%20als%20Goldene%20%C3%84ra%20der%20Games%20mit%20zahlreichen%20gro%C3%9Fen%20und%20bunten%20Klassikern.%20Wie%20das%20Angesichts%20dieser%20enormen%20Limitierungen%20%C3%BCberhaupt%20m%C3%B6glich%20war,%20erkl%C3%A4rt%20auf%20sehr%20anschauliche%20Weise%20ein%20neues%20Video%20des%20Youtubers%20The%20iBookGuy.%20In%20der%20zweiteiligen%20Serie%20schl%C3%BCsselt%20er%20auf,%20wie%20Entwickler%20die%20physikalischen%20Grenz%20von%20Systemen%20wie%20dem%20NES%20oder%20dem%20Commodore%2064%20umgehen%20konnten,%20um%20farbenfrohe%20Grafiken%20zu%20erzeugen,%20welche%20Methoden%20es%20daf%C3%BCr%20gab%20und,%20wieso%20der%20erste%20Super%20Mario%20tats%C3%A4chlich%20aus%20vier%20zusammengesetzten%20Sprites%20besteht.%20Im%20kommenden%20zweiten%20Teil%20nimmt%20The%20iBookGuy%20die%20Grafikmethoden%20von%20Apple%20II-Entwicklern%20und%20CPU-getriebene%20Grafik%20unter%20die%20Lupe. HTTP/1.1\" 200 158 0.068784\n",
      "::ffff:127.0.0.1 - - [2021-11-17 00:23:54] \"GET /favicon.ico HTTP/1.1\" 404 124 0.000634\n",
      "KeyboardInterrupt\n",
      "2021-11-16T23:24:22Z\n"
     ]
    },
    {
     "ename": "KeyboardInterrupt",
     "evalue": "",
     "output_type": "error",
     "traceback": [
      "\u001b[0;31m---------------------------------------------------------------------------\u001b[0m",
      "\u001b[0;31mKeyboardInterrupt\u001b[0m                         Traceback (most recent call last)",
      "\u001b[0;32m<ipython-input-4-0ebc91c7913e>\u001b[0m in \u001b[0;36m<module>\u001b[0;34m\u001b[0m\n\u001b[1;32m     27\u001b[0m     \u001b[0;31m# Production\u001b[0m\u001b[0;34m\u001b[0m\u001b[0;34m\u001b[0m\u001b[0;34m\u001b[0m\u001b[0m\n\u001b[1;32m     28\u001b[0m     \u001b[0mhttp_server\u001b[0m \u001b[0;34m=\u001b[0m \u001b[0mWSGIServer\u001b[0m\u001b[0;34m(\u001b[0m\u001b[0;34m(\u001b[0m\u001b[0;34m''\u001b[0m\u001b[0;34m,\u001b[0m \u001b[0;36m5000\u001b[0m\u001b[0;34m)\u001b[0m\u001b[0;34m,\u001b[0m \u001b[0mapp\u001b[0m\u001b[0;34m)\u001b[0m\u001b[0;34m\u001b[0m\u001b[0;34m\u001b[0m\u001b[0m\n\u001b[0;32m---> 29\u001b[0;31m     \u001b[0mhttp_server\u001b[0m\u001b[0;34m.\u001b[0m\u001b[0mserve_forever\u001b[0m\u001b[0;34m(\u001b[0m\u001b[0;34m)\u001b[0m\u001b[0;34m\u001b[0m\u001b[0;34m\u001b[0m\u001b[0m\n\u001b[0m",
      "\u001b[0;32m~/miniconda3/lib/python3.7/site-packages/gevent/baseserver.py\u001b[0m in \u001b[0;36mserve_forever\u001b[0;34m(self, stop_timeout)\u001b[0m\n\u001b[1;32m    398\u001b[0m             \u001b[0mself\u001b[0m\u001b[0;34m.\u001b[0m\u001b[0mstart\u001b[0m\u001b[0;34m(\u001b[0m\u001b[0;34m)\u001b[0m\u001b[0;34m\u001b[0m\u001b[0;34m\u001b[0m\u001b[0m\n\u001b[1;32m    399\u001b[0m         \u001b[0;32mtry\u001b[0m\u001b[0;34m:\u001b[0m\u001b[0;34m\u001b[0m\u001b[0;34m\u001b[0m\u001b[0m\n\u001b[0;32m--> 400\u001b[0;31m             \u001b[0mself\u001b[0m\u001b[0;34m.\u001b[0m\u001b[0m_stop_event\u001b[0m\u001b[0;34m.\u001b[0m\u001b[0mwait\u001b[0m\u001b[0;34m(\u001b[0m\u001b[0;34m)\u001b[0m\u001b[0;34m\u001b[0m\u001b[0;34m\u001b[0m\u001b[0m\n\u001b[0m\u001b[1;32m    401\u001b[0m         \u001b[0;32mfinally\u001b[0m\u001b[0;34m:\u001b[0m\u001b[0;34m\u001b[0m\u001b[0;34m\u001b[0m\u001b[0m\n\u001b[1;32m    402\u001b[0m             \u001b[0mGreenlet\u001b[0m\u001b[0;34m.\u001b[0m\u001b[0mspawn\u001b[0m\u001b[0;34m(\u001b[0m\u001b[0mself\u001b[0m\u001b[0;34m.\u001b[0m\u001b[0mstop\u001b[0m\u001b[0;34m,\u001b[0m \u001b[0mtimeout\u001b[0m\u001b[0;34m=\u001b[0m\u001b[0mstop_timeout\u001b[0m\u001b[0;34m)\u001b[0m\u001b[0;34m.\u001b[0m\u001b[0mjoin\u001b[0m\u001b[0;34m(\u001b[0m\u001b[0;34m)\u001b[0m\u001b[0;34m\u001b[0m\u001b[0;34m\u001b[0m\u001b[0m\n",
      "\u001b[0;32m~/miniconda3/lib/python3.7/site-packages/gevent/_gevent_cevent.cpython-37m-x86_64-linux-gnu.so\u001b[0m in \u001b[0;36mgevent._gevent_cevent.Event.wait\u001b[0;34m()\u001b[0m\n",
      "\u001b[0;32m~/miniconda3/lib/python3.7/site-packages/gevent/_gevent_c_abstract_linkable.cpython-37m-x86_64-linux-gnu.so\u001b[0m in \u001b[0;36mgevent._gevent_c_abstract_linkable.AbstractLinkable._wait\u001b[0;34m()\u001b[0m\n",
      "\u001b[0;32m~/miniconda3/lib/python3.7/site-packages/gevent/_gevent_c_abstract_linkable.cpython-37m-x86_64-linux-gnu.so\u001b[0m in \u001b[0;36mgevent._gevent_c_abstract_linkable.AbstractLinkable._wait_core\u001b[0;34m()\u001b[0m\n",
      "\u001b[0;32m~/miniconda3/lib/python3.7/site-packages/gevent/_gevent_c_abstract_linkable.cpython-37m-x86_64-linux-gnu.so\u001b[0m in \u001b[0;36mgevent._gevent_c_abstract_linkable.AbstractLinkable._wait_core\u001b[0;34m()\u001b[0m\n",
      "\u001b[0;32m~/miniconda3/lib/python3.7/site-packages/gevent/_gevent_c_abstract_linkable.cpython-37m-x86_64-linux-gnu.so\u001b[0m in \u001b[0;36mgevent._gevent_c_abstract_linkable.AbstractLinkable._AbstractLinkable__wait_to_be_notified\u001b[0;34m()\u001b[0m\n",
      "\u001b[0;32m~/miniconda3/lib/python3.7/site-packages/gevent/_gevent_c_abstract_linkable.cpython-37m-x86_64-linux-gnu.so\u001b[0m in \u001b[0;36mgevent._gevent_c_abstract_linkable.AbstractLinkable._switch_to_hub\u001b[0;34m()\u001b[0m\n",
      "\u001b[0;32m~/miniconda3/lib/python3.7/site-packages/gevent/_gevent_c_greenlet_primitives.cpython-37m-x86_64-linux-gnu.so\u001b[0m in \u001b[0;36mgevent._gevent_c_greenlet_primitives.SwitchOutGreenletWithLoop.switch\u001b[0;34m()\u001b[0m\n",
      "\u001b[0;32m~/miniconda3/lib/python3.7/site-packages/gevent/_gevent_c_greenlet_primitives.cpython-37m-x86_64-linux-gnu.so\u001b[0m in \u001b[0;36mgevent._gevent_c_greenlet_primitives.SwitchOutGreenletWithLoop.switch\u001b[0;34m()\u001b[0m\n",
      "\u001b[0;32msrc/gevent/_gevent_c_greenlet_primitives.pxd\u001b[0m in \u001b[0;36mgevent._gevent_c_greenlet_primitives._greenlet_switch\u001b[0;34m()\u001b[0m\n",
      "\u001b[0;31mKeyboardInterrupt\u001b[0m: "
     ]
    }
   ],
   "source": [
    "from flask import Flask\n",
    "from gevent.pywsgi import WSGIServer\n",
    "\n",
    "app = Flask(__name__)\n",
    "api = Api(app)\n",
    "\n",
    "#You can test with this query: \"text=\"Die ARD-Tochter Degeto hat sich verpflichtet, ab August einer Quotenregelung zu folgen, die für die Gleichstellung von Regisseurinnen sorgen soll. In mindestens 20 Prozent der Filme, die die ARD-Tochter Degeto produziert oder mitfinanziert, sollen ab Mitte August Frauen Regie führen. Degeto-Chefin Christine Strobl folgt mit dieser Selbstverpflichtung der Forderung von Pro Quote Regie. Die Vereinigung von Regisseurinnen hatte im vergangenen Jahr eine Quotenregelung gefordert, um den weiblichen Filmschaffenden mehr Gehör und ökonomische Gleichstellung zu verschaffen. Pro Quote Regie kritisiert, dass, während rund 50 Prozent der Regie-Studierenden weiblich seien, der Anteil der Regisseurinnen bei Fernsehfilmen nur bei 13 bis 15 Prozent liege. In Österreich sieht die Situation ähnlich aus, auch hier wird von unterschiedlichen Seiten Handlungsbedarf angemahnt. Aber wie soll dieser aussehen? Ist die Einführung der Quotenregelung auch für die österreichische Film- und Fernsehlandschaft sinnvoll? Diskutieren Sie im Forum.\", it's taken from 10kGNAD dataset\n",
    "\n",
    "# argument parsing\n",
    "parser = reqparse.RequestParser()\n",
    "parser.add_argument('query')\n",
    "\n",
    "@app.route('/predictClass', methods=['GET'])\n",
    "def index():\n",
    "    # use parser and find the user's query\n",
    "    args = parser.parse_args()\n",
    "    user_query = args['query']        \n",
    "    # vectorize the user's query and make a prediction\n",
    "    uq_vectorized = loaded_vec.transform(np.array([user_query]))\n",
    "    prediction = loaded_model.predict(uq_vectorized)\n",
    "    \n",
    "    return ('The predicted class for your query is: '+ prediction[0])\n",
    "\n",
    "if __name__ == '__main__':\n",
    "    # Debug/Development\n",
    "    # app.run(debug=True, host=\"0.0.0.0\", port=\"5000\")\n",
    "    # Production\n",
    "    http_server = WSGIServer(('', 5000), app)\n",
    "    http_server.serve_forever()"
   ]
  },
  {
   "cell_type": "code",
   "execution_count": null,
   "id": "5b1e6f90",
   "metadata": {},
   "outputs": [],
   "source": []
  }
 ],
 "metadata": {
  "kernelspec": {
   "display_name": "Python 3",
   "language": "python",
   "name": "python3"
  },
  "language_info": {
   "codemirror_mode": {
    "name": "ipython",
    "version": 3
   },
   "file_extension": ".py",
   "mimetype": "text/x-python",
   "name": "python",
   "nbconvert_exporter": "python",
   "pygments_lexer": "ipython3",
   "version": "3.7.10"
  }
 },
 "nbformat": 4,
 "nbformat_minor": 5
}
